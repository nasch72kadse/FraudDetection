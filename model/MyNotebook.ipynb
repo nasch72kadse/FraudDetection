{
 "cells": [
  {
   "cell_type": "code",
   "metadata": {
    "collapsed": true,
    "pycharm": {
     "name": "#%%\n"
    }
   },
   "source": [
    "# This Python 3 environment comes with many helpful analytics libraries installed\n",
    "# It is defined by the kaggle/python Docker image: https://github.com/kaggle/docker-python\n",
    "# For example, here's several helpful packages to load\n",
    "\n",
    "import pandas as pd # data processing, CSV file I/O (e.g. pd.read_csv)\n",
    "from sklearn import linear_model\n",
    "from sklearn.model_selection import train_test_split\n",
    "from sklearn import metrics\n",
    "from sklearn.metrics import roc_auc_score"
   ],
   "execution_count": 22,
   "outputs": []
  },
  {
   "cell_type": "markdown",
   "source": [
    "Load and analyze"
   ],
   "metadata": {
    "collapsed": false,
    "pycharm": {
     "name": "#%% md\n"
    }
   }
  },
  {
   "cell_type": "code",
   "execution_count": 23,
   "outputs": [
    {
     "data": {
      "text/plain": "                Time             V1             V2             V3  \\\ncount  179838.000000  179838.000000  179838.000000  179838.000000   \nmean    64140.226559      -0.146492       0.025686       0.433473   \nstd     30220.218355       1.869672       1.613667       1.409967   \nmin         0.000000     -56.407510     -72.715728     -33.680984   \n25%     42150.000000      -0.977851      -0.556577      -0.149522   \n50%     62786.000000      -0.148897       0.097343       0.583005   \n75%     81007.000000       1.194027       0.794297       1.273702   \nmax    124259.000000       2.439207      22.057729       9.382558   \n\n                  V4             V5             V6             V7  \\\ncount  179838.000000  179838.000000  179838.000000  179838.000000   \nmean        0.100411      -0.156071       0.054433      -0.071531   \nstd         1.381779       1.351767       1.302399       1.212789   \nmin        -5.519697     -42.147898     -26.160506     -43.557242   \n25%        -0.764898      -0.813791      -0.697651      -0.583874   \n50%         0.104321      -0.209047      -0.208232      -0.025635   \n75%         0.919359       0.404510       0.447283       0.474313   \nmax        16.875344      34.801666      22.529298      36.677268   \n\n                  V8             V9  ...            V21            V22  \\\ncount  179838.000000  179838.000000  ...  179838.000000  179838.000000   \nmean        0.027113       0.015373  ...      -0.023295      -0.070839   \nstd         1.225249       1.146285  ...       0.741317       0.676173   \nmin       -73.216718     -13.434066  ...     -34.830382     -10.933144   \n25%        -0.168860      -0.660843  ...      -0.229198      -0.543551   \n50%         0.051655      -0.077482  ...      -0.050464      -0.055545   \n75%         0.345809       0.635742  ...       0.136044       0.384111   \nmax        20.007208      15.594995  ...      27.202839      10.503090   \n\n                 V23            V24            V25            V26  \\\ncount  179838.000000  179838.000000  179838.000000  179838.000000   \nmean       -0.020378       0.007430       0.081406       0.010490   \nstd         0.595273       0.600632       0.474053       0.489808   \nmin       -44.807735      -2.836627     -10.295397      -2.604551   \n25%        -0.169603      -0.335297      -0.212239      -0.330661   \n50%        -0.033594       0.057355       0.125465      -0.059401   \n75%         0.104658       0.417962       0.394300       0.269311   \nmax        19.002942       4.022866       7.519589       3.517346   \n\n                 V27            V28         Amount          Class  \ncount  179838.000000  179838.000000  179838.000000  179838.000000  \nmean        0.002067       0.002210      88.249005       0.002024  \nstd         0.392597       0.307930     247.201870       0.044944  \nmin       -22.565679     -11.710896       0.000000       0.000000  \n25%        -0.065755      -0.033580       5.670000       0.000000  \n50%         0.007737       0.020261      22.190000       0.000000  \n75%         0.089498       0.078200      77.990000       0.000000  \nmax        12.152401      33.847808   19656.530000       1.000000  \n\n[8 rows x 31 columns]",
      "text/html": "<div>\n<style scoped>\n    .dataframe tbody tr th:only-of-type {\n        vertical-align: middle;\n    }\n\n    .dataframe tbody tr th {\n        vertical-align: top;\n    }\n\n    .dataframe thead th {\n        text-align: right;\n    }\n</style>\n<table border=\"1\" class=\"dataframe\">\n  <thead>\n    <tr style=\"text-align: right;\">\n      <th></th>\n      <th>Time</th>\n      <th>V1</th>\n      <th>V2</th>\n      <th>V3</th>\n      <th>V4</th>\n      <th>V5</th>\n      <th>V6</th>\n      <th>V7</th>\n      <th>V8</th>\n      <th>V9</th>\n      <th>...</th>\n      <th>V21</th>\n      <th>V22</th>\n      <th>V23</th>\n      <th>V24</th>\n      <th>V25</th>\n      <th>V26</th>\n      <th>V27</th>\n      <th>V28</th>\n      <th>Amount</th>\n      <th>Class</th>\n    </tr>\n  </thead>\n  <tbody>\n    <tr>\n      <th>count</th>\n      <td>179838.000000</td>\n      <td>179838.000000</td>\n      <td>179838.000000</td>\n      <td>179838.000000</td>\n      <td>179838.000000</td>\n      <td>179838.000000</td>\n      <td>179838.000000</td>\n      <td>179838.000000</td>\n      <td>179838.000000</td>\n      <td>179838.000000</td>\n      <td>...</td>\n      <td>179838.000000</td>\n      <td>179838.000000</td>\n      <td>179838.000000</td>\n      <td>179838.000000</td>\n      <td>179838.000000</td>\n      <td>179838.000000</td>\n      <td>179838.000000</td>\n      <td>179838.000000</td>\n      <td>179838.000000</td>\n      <td>179838.000000</td>\n    </tr>\n    <tr>\n      <th>mean</th>\n      <td>64140.226559</td>\n      <td>-0.146492</td>\n      <td>0.025686</td>\n      <td>0.433473</td>\n      <td>0.100411</td>\n      <td>-0.156071</td>\n      <td>0.054433</td>\n      <td>-0.071531</td>\n      <td>0.027113</td>\n      <td>0.015373</td>\n      <td>...</td>\n      <td>-0.023295</td>\n      <td>-0.070839</td>\n      <td>-0.020378</td>\n      <td>0.007430</td>\n      <td>0.081406</td>\n      <td>0.010490</td>\n      <td>0.002067</td>\n      <td>0.002210</td>\n      <td>88.249005</td>\n      <td>0.002024</td>\n    </tr>\n    <tr>\n      <th>std</th>\n      <td>30220.218355</td>\n      <td>1.869672</td>\n      <td>1.613667</td>\n      <td>1.409967</td>\n      <td>1.381779</td>\n      <td>1.351767</td>\n      <td>1.302399</td>\n      <td>1.212789</td>\n      <td>1.225249</td>\n      <td>1.146285</td>\n      <td>...</td>\n      <td>0.741317</td>\n      <td>0.676173</td>\n      <td>0.595273</td>\n      <td>0.600632</td>\n      <td>0.474053</td>\n      <td>0.489808</td>\n      <td>0.392597</td>\n      <td>0.307930</td>\n      <td>247.201870</td>\n      <td>0.044944</td>\n    </tr>\n    <tr>\n      <th>min</th>\n      <td>0.000000</td>\n      <td>-56.407510</td>\n      <td>-72.715728</td>\n      <td>-33.680984</td>\n      <td>-5.519697</td>\n      <td>-42.147898</td>\n      <td>-26.160506</td>\n      <td>-43.557242</td>\n      <td>-73.216718</td>\n      <td>-13.434066</td>\n      <td>...</td>\n      <td>-34.830382</td>\n      <td>-10.933144</td>\n      <td>-44.807735</td>\n      <td>-2.836627</td>\n      <td>-10.295397</td>\n      <td>-2.604551</td>\n      <td>-22.565679</td>\n      <td>-11.710896</td>\n      <td>0.000000</td>\n      <td>0.000000</td>\n    </tr>\n    <tr>\n      <th>25%</th>\n      <td>42150.000000</td>\n      <td>-0.977851</td>\n      <td>-0.556577</td>\n      <td>-0.149522</td>\n      <td>-0.764898</td>\n      <td>-0.813791</td>\n      <td>-0.697651</td>\n      <td>-0.583874</td>\n      <td>-0.168860</td>\n      <td>-0.660843</td>\n      <td>...</td>\n      <td>-0.229198</td>\n      <td>-0.543551</td>\n      <td>-0.169603</td>\n      <td>-0.335297</td>\n      <td>-0.212239</td>\n      <td>-0.330661</td>\n      <td>-0.065755</td>\n      <td>-0.033580</td>\n      <td>5.670000</td>\n      <td>0.000000</td>\n    </tr>\n    <tr>\n      <th>50%</th>\n      <td>62786.000000</td>\n      <td>-0.148897</td>\n      <td>0.097343</td>\n      <td>0.583005</td>\n      <td>0.104321</td>\n      <td>-0.209047</td>\n      <td>-0.208232</td>\n      <td>-0.025635</td>\n      <td>0.051655</td>\n      <td>-0.077482</td>\n      <td>...</td>\n      <td>-0.050464</td>\n      <td>-0.055545</td>\n      <td>-0.033594</td>\n      <td>0.057355</td>\n      <td>0.125465</td>\n      <td>-0.059401</td>\n      <td>0.007737</td>\n      <td>0.020261</td>\n      <td>22.190000</td>\n      <td>0.000000</td>\n    </tr>\n    <tr>\n      <th>75%</th>\n      <td>81007.000000</td>\n      <td>1.194027</td>\n      <td>0.794297</td>\n      <td>1.273702</td>\n      <td>0.919359</td>\n      <td>0.404510</td>\n      <td>0.447283</td>\n      <td>0.474313</td>\n      <td>0.345809</td>\n      <td>0.635742</td>\n      <td>...</td>\n      <td>0.136044</td>\n      <td>0.384111</td>\n      <td>0.104658</td>\n      <td>0.417962</td>\n      <td>0.394300</td>\n      <td>0.269311</td>\n      <td>0.089498</td>\n      <td>0.078200</td>\n      <td>77.990000</td>\n      <td>0.000000</td>\n    </tr>\n    <tr>\n      <th>max</th>\n      <td>124259.000000</td>\n      <td>2.439207</td>\n      <td>22.057729</td>\n      <td>9.382558</td>\n      <td>16.875344</td>\n      <td>34.801666</td>\n      <td>22.529298</td>\n      <td>36.677268</td>\n      <td>20.007208</td>\n      <td>15.594995</td>\n      <td>...</td>\n      <td>27.202839</td>\n      <td>10.503090</td>\n      <td>19.002942</td>\n      <td>4.022866</td>\n      <td>7.519589</td>\n      <td>3.517346</td>\n      <td>12.152401</td>\n      <td>33.847808</td>\n      <td>19656.530000</td>\n      <td>1.000000</td>\n    </tr>\n  </tbody>\n</table>\n<p>8 rows × 31 columns</p>\n</div>"
     },
     "execution_count": 23,
     "metadata": {},
     "output_type": "execute_result"
    }
   ],
   "source": [
    "creditcard_data = pd.read_csv('input/creditcard.csv')\n",
    "creditcard_data.describe()"
   ],
   "metadata": {
    "collapsed": false,
    "pycharm": {
     "name": "#%%\n"
    }
   }
  },
  {
   "cell_type": "markdown",
   "source": [
    "Prepare data"
   ],
   "metadata": {
    "collapsed": false,
    "pycharm": {
     "name": "#%% md\n"
    }
   }
  },
  {
   "cell_type": "code",
   "execution_count": 24,
   "outputs": [],
   "source": [
    "X = creditcard_data.drop('Class', axis = 'columns').values\n",
    "Y = creditcard_data.Class.values\n",
    "Xtrain, Xtest, Ytrain, Ytest = train_test_split(X, Y, test_size = 0.33, random_state=42)"
   ],
   "metadata": {
    "collapsed": false,
    "pycharm": {
     "name": "#%%\n"
    }
   }
  },
  {
   "cell_type": "markdown",
   "source": [
    "Training"
   ],
   "metadata": {
    "collapsed": false,
    "pycharm": {
     "name": "#%% md\n"
    }
   }
  },
  {
   "cell_type": "code",
   "execution_count": 25,
   "outputs": [
    {
     "data": {
      "text/plain": "LogisticRegression(class_weight='balanced')"
     },
     "execution_count": 25,
     "metadata": {},
     "output_type": "execute_result"
    }
   ],
   "source": [
    "logistic = linear_model.LogisticRegression(class_weight='balanced')\n",
    "logistic.fit(Xtrain, Ytrain)"
   ],
   "metadata": {
    "collapsed": false,
    "pycharm": {
     "name": "#%%\n"
    }
   }
  },
  {
   "cell_type": "markdown",
   "source": [
    "Evaluate"
   ],
   "metadata": {
    "collapsed": false
   }
  },
  {
   "cell_type": "code",
   "execution_count": 26,
   "outputs": [
    {
     "name": "stdout",
     "output_type": "stream",
     "text": [
      "ROCAUC: 0.9382452222929045\n"
     ]
    }
   ],
   "source": [
    "predictions = logistic.predict(Xtest)\n",
    "fpr, tpr, thresholds = metrics.roc_curve(Ytest, predictions, pos_label=True)\n",
    "print(\"ROCAUC:\", roc_auc_score(Ytest, predictions))"
   ],
   "metadata": {
    "collapsed": false,
    "pycharm": {
     "name": "#%%\n"
    }
   }
  }
 ],
 "metadata": {
  "kernelspec": {
   "display_name": "Python 3",
   "language": "python",
   "name": "python3"
  },
  "language_info": {
   "codemirror_mode": {
    "name": "ipython",
    "version": 2
   },
   "file_extension": ".py",
   "mimetype": "text/x-python",
   "name": "python",
   "nbconvert_exporter": "python",
   "pygments_lexer": "ipython2",
   "version": "2.7.6"
  }
 },
 "nbformat": 4,
 "nbformat_minor": 0
}